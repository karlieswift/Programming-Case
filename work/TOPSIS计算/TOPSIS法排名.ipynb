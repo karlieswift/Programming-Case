{
 "cells": [
  {
   "cell_type": "code",
   "execution_count": 1,
   "metadata": {},
   "outputs": [
    {
     "data": {
      "text/html": [
       "<div>\n",
       "<style scoped>\n",
       "    .dataframe tbody tr th:only-of-type {\n",
       "        vertical-align: middle;\n",
       "    }\n",
       "\n",
       "    .dataframe tbody tr th {\n",
       "        vertical-align: top;\n",
       "    }\n",
       "\n",
       "    .dataframe thead th {\n",
       "        text-align: right;\n",
       "    }\n",
       "</style>\n",
       "<table border=\"1\" class=\"dataframe\">\n",
       "  <thead>\n",
       "    <tr style=\"text-align: right;\">\n",
       "      <th></th>\n",
       "      <th>属性(指标)</th>\n",
       "      <th>唐山市</th>\n",
       "      <th>秦皇岛市</th>\n",
       "      <th>沧州市</th>\n",
       "    </tr>\n",
       "  </thead>\n",
       "  <tbody>\n",
       "    <tr>\n",
       "      <th>0</th>\n",
       "      <td>GDP(亿元)</td>\n",
       "      <td>6890.0</td>\n",
       "      <td>1612.0</td>\n",
       "      <td>3588.0</td>\n",
       "    </tr>\n",
       "    <tr>\n",
       "      <th>1</th>\n",
       "      <td>GDP指数(上年=100)</td>\n",
       "      <td>107.3</td>\n",
       "      <td>106.7</td>\n",
       "      <td>106.9</td>\n",
       "    </tr>\n",
       "  </tbody>\n",
       "</table>\n",
       "</div>"
      ],
      "text/plain": [
       "          属性(指标)     唐山市    秦皇岛市     沧州市\n",
       "0        GDP(亿元)  6890.0  1612.0  3588.0\n",
       "1  GDP指数(上年=100)   107.3   106.7   106.9"
      ]
     },
     "execution_count": 1,
     "metadata": {},
     "output_type": "execute_result"
    }
   ],
   "source": [
    "import pandas as pd\n",
    "import numpy as np\n",
    "data = pd.read_excel(\"./work.xlsx\")\n",
    "data "
   ]
  },
  {
   "cell_type": "code",
   "execution_count": 2,
   "metadata": {},
   "outputs": [
    {
     "data": {
      "text/html": [
       "<div>\n",
       "<style scoped>\n",
       "    .dataframe tbody tr th:only-of-type {\n",
       "        vertical-align: middle;\n",
       "    }\n",
       "\n",
       "    .dataframe tbody tr th {\n",
       "        vertical-align: top;\n",
       "    }\n",
       "\n",
       "    .dataframe thead th {\n",
       "        text-align: right;\n",
       "    }\n",
       "</style>\n",
       "<table border=\"1\" class=\"dataframe\">\n",
       "  <thead>\n",
       "    <tr style=\"text-align: right;\">\n",
       "      <th></th>\n",
       "      <th>GDP(亿元)</th>\n",
       "      <th>GDP指数(上年=100)</th>\n",
       "    </tr>\n",
       "    <tr>\n",
       "      <th>属性(指标)</th>\n",
       "      <th></th>\n",
       "      <th></th>\n",
       "    </tr>\n",
       "  </thead>\n",
       "  <tbody>\n",
       "    <tr>\n",
       "      <th>唐山市</th>\n",
       "      <td>6890</td>\n",
       "      <td>107.3</td>\n",
       "    </tr>\n",
       "    <tr>\n",
       "      <th>秦皇岛市</th>\n",
       "      <td>1612</td>\n",
       "      <td>106.7</td>\n",
       "    </tr>\n",
       "    <tr>\n",
       "      <th>沧州市</th>\n",
       "      <td>3588</td>\n",
       "      <td>106.9</td>\n",
       "    </tr>\n",
       "  </tbody>\n",
       "</table>\n",
       "</div>"
      ],
      "text/plain": [
       "       GDP(亿元) GDP指数(上年=100)\n",
       "属性(指标)                      \n",
       "唐山市       6890         107.3\n",
       "秦皇岛市      1612         106.7\n",
       "沧州市       3588         106.9"
      ]
     },
     "execution_count": 2,
     "metadata": {},
     "output_type": "execute_result"
    }
   ],
   "source": [
    "data=data.T\n",
    "data=data.reset_index()\n",
    "data=pd.DataFrame(data=data.values[1:],columns=data.values[0])\n",
    "data.set_index(['属性(指标)'], inplace=True)\n",
    "data"
   ]
  },
  {
   "cell_type": "markdown",
   "metadata": {},
   "source": [
    "### 统一量纲标准化"
   ]
  },
  {
   "cell_type": "code",
   "execution_count": 3,
   "metadata": {},
   "outputs": [],
   "source": [
    "m, n = data.shape  # 获取行数m和列数n\n",
    "# 熵权法计算\n",
    "def My_Stander(data1):  # 矩阵标准化(min-max标准化)\n",
    "    for i in data1.columns:\n",
    "        for j in range(n+1):\n",
    "            if i == str(f'X{j}负'):  # 负向指标\n",
    "                data1[i] = (np.max(data1[i])-data1[i]) / \\\n",
    "                    (np.max(data1[i])-np.min(data1[i]))\n",
    "            else:  # 正向指标\n",
    "                data1[i] = (data1[i]-np.min(data1[i])) / \\\n",
    "                    (np.max(data1[i])-np.min(data1[i]))\n",
    "    return data1\n",
    "stander_data= My_Stander(data)  # 标准化矩阵"
   ]
  },
  {
   "cell_type": "code",
   "execution_count": 4,
   "metadata": {},
   "outputs": [
    {
     "data": {
      "text/html": [
       "<div>\n",
       "<style scoped>\n",
       "    .dataframe tbody tr th:only-of-type {\n",
       "        vertical-align: middle;\n",
       "    }\n",
       "\n",
       "    .dataframe tbody tr th {\n",
       "        vertical-align: top;\n",
       "    }\n",
       "\n",
       "    .dataframe thead th {\n",
       "        text-align: right;\n",
       "    }\n",
       "</style>\n",
       "<table border=\"1\" class=\"dataframe\">\n",
       "  <thead>\n",
       "    <tr style=\"text-align: right;\">\n",
       "      <th></th>\n",
       "      <th>GDP(亿元)</th>\n",
       "      <th>GDP指数(上年=100)</th>\n",
       "    </tr>\n",
       "    <tr>\n",
       "      <th>属性(指标)</th>\n",
       "      <th></th>\n",
       "      <th></th>\n",
       "    </tr>\n",
       "  </thead>\n",
       "  <tbody>\n",
       "    <tr>\n",
       "      <th>唐山市</th>\n",
       "      <td>1.0000</td>\n",
       "      <td>1.0000</td>\n",
       "    </tr>\n",
       "    <tr>\n",
       "      <th>秦皇岛市</th>\n",
       "      <td>0.0000</td>\n",
       "      <td>0.0000</td>\n",
       "    </tr>\n",
       "    <tr>\n",
       "      <th>沧州市</th>\n",
       "      <td>0.3744</td>\n",
       "      <td>0.3333</td>\n",
       "    </tr>\n",
       "  </tbody>\n",
       "</table>\n",
       "</div>"
      ],
      "text/plain": [
       "       GDP(亿元) GDP指数(上年=100)\n",
       "属性(指标)                      \n",
       "唐山市     1.0000        1.0000\n",
       "秦皇岛市    0.0000        0.0000\n",
       "沧州市     0.3744        0.3333"
      ]
     },
     "execution_count": 4,
     "metadata": {},
     "output_type": "execute_result"
    }
   ],
   "source": [
    "formater=\"{0:.04f}\".format\n",
    "stander_data=stander_data.applymap(formater)\n",
    "stander_data"
   ]
  },
  {
   "cell_type": "code",
   "execution_count": null,
   "metadata": {},
   "outputs": [],
   "source": []
  },
  {
   "cell_type": "code",
   "execution_count": 5,
   "metadata": {},
   "outputs": [
    {
     "data": {
      "text/html": [
       "<div>\n",
       "<style scoped>\n",
       "    .dataframe tbody tr th:only-of-type {\n",
       "        vertical-align: middle;\n",
       "    }\n",
       "\n",
       "    .dataframe tbody tr th {\n",
       "        vertical-align: top;\n",
       "    }\n",
       "\n",
       "    .dataframe thead th {\n",
       "        text-align: right;\n",
       "    }\n",
       "</style>\n",
       "<table border=\"1\" class=\"dataframe\">\n",
       "  <thead>\n",
       "    <tr style=\"text-align: right;\">\n",
       "      <th></th>\n",
       "      <th>GDP(亿元)</th>\n",
       "      <th>GDP指数(上年=100)</th>\n",
       "    </tr>\n",
       "    <tr>\n",
       "      <th>属性(指标)</th>\n",
       "      <th></th>\n",
       "      <th></th>\n",
       "    </tr>\n",
       "  </thead>\n",
       "  <tbody>\n",
       "    <tr>\n",
       "      <th>唐山市</th>\n",
       "      <td>1.0000</td>\n",
       "      <td>1.0000</td>\n",
       "    </tr>\n",
       "    <tr>\n",
       "      <th>秦皇岛市</th>\n",
       "      <td>0.0000</td>\n",
       "      <td>0.0000</td>\n",
       "    </tr>\n",
       "    <tr>\n",
       "      <th>沧州市</th>\n",
       "      <td>0.3744</td>\n",
       "      <td>0.3333</td>\n",
       "    </tr>\n",
       "  </tbody>\n",
       "</table>\n",
       "</div>"
      ],
      "text/plain": [
       "       GDP(亿元) GDP指数(上年=100)\n",
       "属性(指标)                      \n",
       "唐山市     1.0000        1.0000\n",
       "秦皇岛市    0.0000        0.0000\n",
       "沧州市     0.3744        0.3333"
      ]
     },
     "execution_count": 5,
     "metadata": {},
     "output_type": "execute_result"
    }
   ],
   "source": [
    "stander_data"
   ]
  },
  {
   "cell_type": "code",
   "execution_count": 6,
   "metadata": {},
   "outputs": [],
   "source": [
    "None_ij = [[None] * n for i in range(m)]  # 新建空矩阵\n",
    "def entropy(data):  # 计算熵值\n",
    "    data = np.array(data,dtype='float')\n",
    "    E = np.array(None_ij)\n",
    "    for i in range(m):\n",
    "        for j in range(n):\n",
    "            if data[i][j] == 0:\n",
    "                e_ij = 0.0\n",
    "            else:\n",
    "                P_ij = data[i][j] / data.sum(axis=0)[j]  # 计算比重\n",
    "                e_ij = (-1 / np.log(m)) * P_ij * np.log(P_ij)\n",
    "            E[i][j] = e_ij\n",
    "    E_j = E.sum(axis=0)\n",
    "    G_j = 1 - E_j\n",
    "    W_j = G_j / sum(G_j)\n",
    "    return np.around(np.array(W_j,dtype=\"float32\"),1)\n",
    "W = entropy(stander_data)  "
   ]
  },
  {
   "cell_type": "code",
   "execution_count": null,
   "metadata": {},
   "outputs": [],
   "source": []
  },
  {
   "cell_type": "code",
   "execution_count": 7,
   "metadata": {},
   "outputs": [
    {
     "data": {
      "text/plain": [
       "array([0.48889804, 0.51110196])"
      ]
     },
     "execution_count": 7,
     "metadata": {},
     "output_type": "execute_result"
    }
   ],
   "source": [
    "np.array([0.48889803892358075 ,0.5111019610764193])"
   ]
  },
  {
   "cell_type": "code",
   "execution_count": 8,
   "metadata": {},
   "outputs": [
    {
     "data": {
      "text/plain": [
       "array([0.5, 0.5])"
      ]
     },
     "execution_count": 8,
     "metadata": {},
     "output_type": "execute_result"
    }
   ],
   "source": [
    "np.around(np.array([0.48889803892358075 ,0.5111019610764193]),1)"
   ]
  },
  {
   "cell_type": "code",
   "execution_count": 9,
   "metadata": {},
   "outputs": [
    {
     "data": {
      "text/html": [
       "<div>\n",
       "<style scoped>\n",
       "    .dataframe tbody tr th:only-of-type {\n",
       "        vertical-align: middle;\n",
       "    }\n",
       "\n",
       "    .dataframe tbody tr th {\n",
       "        vertical-align: top;\n",
       "    }\n",
       "\n",
       "    .dataframe thead th {\n",
       "        text-align: right;\n",
       "    }\n",
       "</style>\n",
       "<table border=\"1\" class=\"dataframe\">\n",
       "  <thead>\n",
       "    <tr style=\"text-align: right;\">\n",
       "      <th>属性(指标)</th>\n",
       "      <th>唐山市</th>\n",
       "      <th>秦皇岛市</th>\n",
       "      <th>沧州市</th>\n",
       "      <th>权重</th>\n",
       "    </tr>\n",
       "  </thead>\n",
       "  <tbody>\n",
       "    <tr>\n",
       "      <th>GDP(亿元)</th>\n",
       "      <td>1.0000</td>\n",
       "      <td>0.0000</td>\n",
       "      <td>0.3744</td>\n",
       "      <td>0.5</td>\n",
       "    </tr>\n",
       "    <tr>\n",
       "      <th>GDP指数(上年=100)</th>\n",
       "      <td>1.0000</td>\n",
       "      <td>0.0000</td>\n",
       "      <td>0.3333</td>\n",
       "      <td>0.5</td>\n",
       "    </tr>\n",
       "  </tbody>\n",
       "</table>\n",
       "</div>"
      ],
      "text/plain": [
       "属性(指标)            唐山市    秦皇岛市     沧州市   权重\n",
       "GDP(亿元)        1.0000  0.0000  0.3744  0.5\n",
       "GDP指数(上年=100)  1.0000  0.0000  0.3333  0.5"
      ]
     },
     "execution_count": 9,
     "metadata": {},
     "output_type": "execute_result"
    }
   ],
   "source": [
    "stander_data=stander_data.T\n",
    "save_stander_data=stander_data.copy()\n",
    "save_stander_data['权重']=W\n",
    "save_stander_data.to_excel('./标准化后的数据.xlsx')\n",
    "save_stander_data"
   ]
  },
  {
   "cell_type": "code",
   "execution_count": 10,
   "metadata": {},
   "outputs": [
    {
     "data": {
      "text/html": [
       "<div>\n",
       "<style scoped>\n",
       "    .dataframe tbody tr th:only-of-type {\n",
       "        vertical-align: middle;\n",
       "    }\n",
       "\n",
       "    .dataframe tbody tr th {\n",
       "        vertical-align: top;\n",
       "    }\n",
       "\n",
       "    .dataframe thead th {\n",
       "        text-align: right;\n",
       "    }\n",
       "</style>\n",
       "<table border=\"1\" class=\"dataframe\">\n",
       "  <thead>\n",
       "    <tr style=\"text-align: right;\">\n",
       "      <th>属性(指标)</th>\n",
       "      <th>唐山市</th>\n",
       "      <th>秦皇岛市</th>\n",
       "      <th>沧州市</th>\n",
       "    </tr>\n",
       "  </thead>\n",
       "  <tbody>\n",
       "    <tr>\n",
       "      <th>GDP(亿元)</th>\n",
       "      <td>1.0000</td>\n",
       "      <td>0.0000</td>\n",
       "      <td>0.3744</td>\n",
       "    </tr>\n",
       "    <tr>\n",
       "      <th>GDP指数(上年=100)</th>\n",
       "      <td>1.0000</td>\n",
       "      <td>0.0000</td>\n",
       "      <td>0.3333</td>\n",
       "    </tr>\n",
       "  </tbody>\n",
       "</table>\n",
       "</div>"
      ],
      "text/plain": [
       "属性(指标)            唐山市    秦皇岛市     沧州市\n",
       "GDP(亿元)        1.0000  0.0000  0.3744\n",
       "GDP指数(上年=100)  1.0000  0.0000  0.3333"
      ]
     },
     "execution_count": 10,
     "metadata": {},
     "output_type": "execute_result"
    }
   ],
   "source": [
    "stander_data"
   ]
  },
  {
   "cell_type": "code",
   "execution_count": 11,
   "metadata": {},
   "outputs": [],
   "source": [
    "W_j = W\n",
    "# TOPSIS计算\n",
    "stan_data = np.array(stander_data.T,dtype='float')  # stan_data为标准化矩阵\n",
    "Z_ij = np.array(None_ij)  # 空矩阵\n",
    "for i in range(m):\n",
    "    for j in range(n):\n",
    "        Z_ij[i][j] = stan_data[i][j]*W_j[j]  # 计算加权标准化矩阵Z_ij\n",
    "Imax_j = Z_ij.max(axis=0)  # 最优解\n",
    "Imin_j = Z_ij.min(axis=0)  # 最劣解\n",
    "Dmax_ij = np.array(None_ij)  # 空矩阵\n",
    "Dmin_ij = np.array(None_ij)  # 空矩阵\n",
    "for i in range(m):\n",
    "    for j in range(n):\n",
    "        Dmax_ij[i][j] = (Imax_j[j] - Z_ij[i][j]) ** 2\n",
    "        Dmin_ij[i][j] = (Imin_j[j] - Z_ij[i][j]) ** 2\n",
    "Dmax_i = Dmax_ij.sum(axis=1)**0.5  # 最优解欧氏距离\n",
    "Dmin_i = Dmin_ij.sum(axis=1)**0.5  # 最劣解欧氏距离\n",
    "score = Dmin_i/(Dmax_i+Dmin_i)  # 综合评价值"
   ]
  },
  {
   "cell_type": "code",
   "execution_count": 12,
   "metadata": {},
   "outputs": [],
   "source": [
    "result=pd.DataFrame(stander_data.T.index)"
   ]
  },
  {
   "cell_type": "code",
   "execution_count": 13,
   "metadata": {},
   "outputs": [],
   "source": [
    "result['TOPSIS法得分']=score"
   ]
  },
  {
   "cell_type": "code",
   "execution_count": 14,
   "metadata": {},
   "outputs": [],
   "source": [
    "result=result.sort_values(\"TOPSIS法得分\",ascending=0)"
   ]
  },
  {
   "cell_type": "code",
   "execution_count": 15,
   "metadata": {},
   "outputs": [],
   "source": [
    "result['TOPSIS法排名']=[i+1 for i in range(len(result))]"
   ]
  },
  {
   "cell_type": "code",
   "execution_count": 16,
   "metadata": {},
   "outputs": [
    {
     "data": {
      "text/html": [
       "<div>\n",
       "<style scoped>\n",
       "    .dataframe tbody tr th:only-of-type {\n",
       "        vertical-align: middle;\n",
       "    }\n",
       "\n",
       "    .dataframe tbody tr th {\n",
       "        vertical-align: top;\n",
       "    }\n",
       "\n",
       "    .dataframe thead th {\n",
       "        text-align: right;\n",
       "    }\n",
       "</style>\n",
       "<table border=\"1\" class=\"dataframe\">\n",
       "  <thead>\n",
       "    <tr style=\"text-align: right;\">\n",
       "      <th></th>\n",
       "      <th>属性(指标)</th>\n",
       "      <th>TOPSIS法得分</th>\n",
       "      <th>TOPSIS法排名</th>\n",
       "    </tr>\n",
       "  </thead>\n",
       "  <tbody>\n",
       "    <tr>\n",
       "      <th>0</th>\n",
       "      <td>唐山市</td>\n",
       "      <td>1</td>\n",
       "      <td>1</td>\n",
       "    </tr>\n",
       "    <tr>\n",
       "      <th>2</th>\n",
       "      <td>沧州市</td>\n",
       "      <td>0.354119</td>\n",
       "      <td>2</td>\n",
       "    </tr>\n",
       "    <tr>\n",
       "      <th>1</th>\n",
       "      <td>秦皇岛市</td>\n",
       "      <td>0</td>\n",
       "      <td>3</td>\n",
       "    </tr>\n",
       "  </tbody>\n",
       "</table>\n",
       "</div>"
      ],
      "text/plain": [
       "  属性(指标) TOPSIS法得分  TOPSIS法排名\n",
       "0    唐山市         1          1\n",
       "2    沧州市  0.354119          2\n",
       "1   秦皇岛市         0          3"
      ]
     },
     "execution_count": 16,
     "metadata": {},
     "output_type": "execute_result"
    }
   ],
   "source": [
    "result "
   ]
  },
  {
   "cell_type": "code",
   "execution_count": 17,
   "metadata": {},
   "outputs": [],
   "source": [
    "result.to_excel('./TOPSIS法排名.xlsx')"
   ]
  },
  {
   "cell_type": "code",
   "execution_count": null,
   "metadata": {},
   "outputs": [],
   "source": []
  },
  {
   "cell_type": "code",
   "execution_count": null,
   "metadata": {},
   "outputs": [],
   "source": []
  },
  {
   "cell_type": "code",
   "execution_count": null,
   "metadata": {},
   "outputs": [],
   "source": []
  }
 ],
 "metadata": {
  "kernelspec": {
   "display_name": "Python 3",
   "language": "python",
   "name": "python3"
  },
  "language_info": {
   "codemirror_mode": {
    "name": "ipython",
    "version": 3
   },
   "file_extension": ".py",
   "mimetype": "text/x-python",
   "name": "python",
   "nbconvert_exporter": "python",
   "pygments_lexer": "ipython3",
   "version": "3.7.0"
  },
  "toc": {
   "base_numbering": 1,
   "nav_menu": {},
   "number_sections": true,
   "sideBar": true,
   "skip_h1_title": false,
   "title_cell": "Table of Contents",
   "title_sidebar": "Contents",
   "toc_cell": false,
   "toc_position": {},
   "toc_section_display": true,
   "toc_window_display": false
  }
 },
 "nbformat": 4,
 "nbformat_minor": 2
}
